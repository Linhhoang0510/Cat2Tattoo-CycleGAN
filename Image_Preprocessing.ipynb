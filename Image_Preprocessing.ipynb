{
  "nbformat": 4,
  "nbformat_minor": 0,
  "metadata": {
    "colab": {
      "provenance": []
    },
    "kernelspec": {
      "name": "python3",
      "display_name": "Python 3"
    },
    "language_info": {
      "name": "python"
    }
  },
  "cells": [
    {
      "cell_type": "code",
      "source": [
        "# Mount files and folders from Google Drive\n",
        "from google.colab import drive\n",
        "drive.mount('/content/drive')"
      ],
      "metadata": {
        "colab": {
          "base_uri": "https://localhost:8080/"
        },
        "id": "Pap4RZ0fEq1J",
        "outputId": "8954ce49-7013-48d6-859c-138b6187d4e5"
      },
      "execution_count": 1,
      "outputs": [
        {
          "output_type": "stream",
          "name": "stdout",
          "text": [
            "Mounted at /content/drive\n"
          ]
        }
      ]
    },
    {
      "cell_type": "code",
      "source": [
        "from os import listdir\n",
        "from numpy import asarray\n",
        "from numpy import vstack\n",
        "from keras.preprocessing.image import img_to_array\n",
        "from keras.preprocessing.image import load_img\n",
        "from numpy import savez_compressed\n",
        "\n",
        "# Define function to load, resize images into 256 x 256, and turn pixels into NumbPy arrays\n",
        "def load_image(path, size = (256,256)):\n",
        "\n",
        "    data_list = []\n",
        "\n",
        "    for filename in listdir(path):\n",
        "      # Load and resize the image\n",
        "      pixels = load_img(path + filename , target_size = size)\n",
        "\n",
        "      # Convert pixels to numpy array\n",
        "      pixels = img_to_array(pixels)\n",
        "\n",
        "      # Store in a list\n",
        "      data_list.append(pixels)\n",
        "\n",
        "    # Return as NumPy array\n",
        "    return asarray(data_list)"
      ],
      "metadata": {
        "id": "mNQdNTTQEx6z"
      },
      "execution_count": 2,
      "outputs": []
    },
    {
      "cell_type": "markdown",
      "source": [
        "# Prepare Training Dataset\n",
        "\n"
      ],
      "metadata": {
        "id": "UcH1eBsnSb91"
      }
    },
    {
      "cell_type": "code",
      "source": [
        "# Cat dataset path on Google Drive\n",
        "path1 = '/content/drive/MyDrive/Colab Notebooks/DH Project/Cat/'\n",
        "\n",
        "# Load cat dataset\n",
        "dataA1 = load_image(path1 + 'Cat2/')\n",
        "dataA2 = load_image(path1 + 'Cat3/')\n",
        "\n",
        "# Combine 2 datasets\n",
        "dataA = vstack((dataA1, dataA2))\n",
        "\n",
        "print('Loaded dataA: ', dataA.shape)\n",
        "\n",
        "# Tattoo dataset path on Google Drive\n",
        "path2 = '/content/drive/MyDrive/Colab Notebooks/DH Project/Tattoo Image/'\n",
        "\n",
        "# Load tattoo dataset\n",
        "dataB = load_image(path2 + 'Tattoo1/')\n",
        "print('Loaded dataB: ', dataB.shape)"
      ],
      "metadata": {
        "id": "mF-CLSv5Sa85",
        "colab": {
          "base_uri": "https://localhost:8080/"
        },
        "outputId": "a4d7de85-21bf-4105-9ca4-be24b863ecda"
      },
      "execution_count": 3,
      "outputs": [
        {
          "output_type": "stream",
          "name": "stdout",
          "text": [
            "Loaded dataA:  (1648, 256, 256, 3)\n",
            "Loaded dataB:  (1678, 256, 256, 3)\n"
          ]
        }
      ]
    },
    {
      "cell_type": "code",
      "source": [
        "# Specify the path to your folder in Google Drive\n",
        "drive_folder = '/content/drive/MyDrive/Colab Notebooks/DH Project/'\n",
        "\n",
        "# Save as compressed numpy array\n",
        "filename = f'{drive_folder}cat2tattoo_256.npz'\n",
        "savez_compressed(filename, dataA, dataB)\n",
        "print('Saved dataset: ', filename)"
      ],
      "metadata": {
        "id": "RJIVTgbkVYGV",
        "colab": {
          "base_uri": "https://localhost:8080/"
        },
        "outputId": "3ab7895d-2320-481c-cc77-4583db6fd3f8"
      },
      "execution_count": 4,
      "outputs": [
        {
          "output_type": "stream",
          "name": "stdout",
          "text": [
            "Saved dataset:  /content/drive/MyDrive/Colab Notebooks/DH Project/cat2tattoo_256_2.npz\n"
          ]
        }
      ]
    },
    {
      "cell_type": "markdown",
      "source": [
        "# Prepare Testing Dataset"
      ],
      "metadata": {
        "id": "dI839mFmSh4m"
      }
    },
    {
      "cell_type": "code",
      "source": [
        "# Cat testing dataset path on Google Drive\n",
        "path3 = '/content/drive/MyDrive/Colab Notebooks/DH Project/Cat/Cat - Test Data/'\n",
        "\n",
        "# Load cat dataset\n",
        "dataA_test = load_image(path3)\n",
        "\n",
        "print('Loaded dataA: ', dataA_test.shape)\n",
        "\n",
        "# Tattoo dataset path on Google Drive\n",
        "path4 = '/content/drive/MyDrive/Colab Notebooks/DH Project/Tattoo Image/Tattoo - Test data/'\n",
        "\n",
        "# Load tattoo dataset\n",
        "dataB_test = load_image(path4)\n",
        "\n",
        "print('Loaded dataB: ', dataB_test.shape)"
      ],
      "metadata": {
        "colab": {
          "base_uri": "https://localhost:8080/"
        },
        "id": "lqEaVwSZSkpk",
        "outputId": "5587b039-272c-4bb7-a44c-9a3cae0dd2f7"
      },
      "execution_count": 5,
      "outputs": [
        {
          "output_type": "stream",
          "name": "stdout",
          "text": [
            "Loaded dataA:  (539, 256, 256, 3)\n",
            "Loaded dataB:  (1643, 256, 256, 3)\n"
          ]
        }
      ]
    },
    {
      "cell_type": "code",
      "source": [
        "# Specify the path to your folder in Google Drive\n",
        "drive_folder = '/content/drive/MyDrive/Colab Notebooks/DH Project/'\n",
        "\n",
        "# Save as compressed numpy array\n",
        "filename = f'{drive_folder}cat2tattoo_256_test.npz'\n",
        "savez_compressed(filename, dataA_test, dataB_test)\n",
        "print('Saved dataset: ', filename)"
      ],
      "metadata": {
        "colab": {
          "base_uri": "https://localhost:8080/"
        },
        "id": "m2zsJhQQUetC",
        "outputId": "a87aef69-b5ca-44ff-d1ad-09d54231d681"
      },
      "execution_count": 6,
      "outputs": [
        {
          "output_type": "stream",
          "name": "stdout",
          "text": [
            "Saved dataset:  /content/drive/MyDrive/Colab Notebooks/DH Project/cat2tattoo_256_test.npz\n"
          ]
        }
      ]
    }
  ]
}